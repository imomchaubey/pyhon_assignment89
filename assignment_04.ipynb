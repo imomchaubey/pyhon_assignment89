{
  "nbformat": 4,
  "nbformat_minor": 0,
  "metadata": {
    "colab": {
      "provenance": [],
      "authorship_tag": "ABX9TyNYNe0c2iWKyOPqGzDhc3pD",
      "include_colab_link": true
    },
    "kernelspec": {
      "name": "python3",
      "display_name": "Python 3"
    },
    "language_info": {
      "name": "python"
    }
  },
  "cells": [
    {
      "cell_type": "markdown",
      "metadata": {
        "id": "view-in-github",
        "colab_type": "text"
      },
      "source": [
        "<a href=\"https://colab.research.google.com/github/imomchaubey/pyhon_assignment89/blob/main/assignment_04.ipynb\" target=\"_parent\"><img src=\"https://colab.research.google.com/assets/colab-badge.svg\" alt=\"Open In Colab\"/></a>"
      ]
    },
    {
      "cell_type": "markdown",
      "source": [
        "Q.1 Write a program to create a NumPy 1D-array with 5 elements and perform basic\n",
        "operations like:\n",
        "a. Addition of 2 in all the element\n",
        "b. Multiply 3 with all the elements\n",
        "c. Divide every element by 2\n"
      ],
      "metadata": {
        "id": "S_GJcaHvl5YE"
      }
    },
    {
      "cell_type": "code",
      "source": [
        "import numpy as np\n",
        "\n",
        "#  a NumPy array with 5 elements\n",
        "arr = np.array([1, 2, 3, 4, 5])\n",
        "\n",
        "# Addition of 2 to all elements\n",
        "add_2 = arr + 2\n",
        "\n",
        "# Multiply 3 with all elements\n",
        "multiply_3 = arr * 3\n",
        "\n",
        "# Divide every element by 2\n",
        "divide_2 = arr / 2\n",
        "\n",
        "print(\"Original array of these numbers :\", arr)\n",
        "print(\"After adding 2 to these numbers :\", add_2)\n",
        "print(\"After multiplying by 3 to these numbers:\", multiply_3)\n",
        "print(\"After dividing by 2 to these numbers:\", divide_2)\n"
      ],
      "metadata": {
        "colab": {
          "base_uri": "https://localhost:8080/"
        },
        "id": "iX84tYlYmKBz",
        "outputId": "e320bf23-c1b2-49f9-bcb2-997c673250e7"
      },
      "execution_count": 1,
      "outputs": [
        {
          "output_type": "stream",
          "name": "stdout",
          "text": [
            "Original array of these numbers : [1 2 3 4 5]\n",
            "After adding 2 to these numbers : [3 4 5 6 7]\n",
            "After multiplying by 3 to these numbers: [ 3  6  9 12 15]\n",
            "After dividing by 2 to these numbers: [0.5 1.  1.5 2.  2.5]\n"
          ]
        }
      ]
    },
    {
      "cell_type": "markdown",
      "source": [
        "Q.2 Questions on Basic NumPy Array:\n",
        "a. Reverse the NumPy array: arr = np.array([1, 2, 3, 6, 4, 5])"
      ],
      "metadata": {
        "id": "CT9oO3R_nD3q"
      }
    },
    {
      "cell_type": "code",
      "source": [
        "import numpy as np\n",
        "\n",
        "# Given array\n",
        "arr = np.array([1, 2, 3, 6, 4, 5])\n",
        "\n",
        "# Reverse the array\n",
        "reversed_arr = arr[::-1]\n",
        "\n",
        "print(\"Original array:\", arr)\n",
        "print(\"Reversed array:\", reversed_arr)\n"
      ],
      "metadata": {
        "colab": {
          "base_uri": "https://localhost:8080/"
        },
        "id": "Pd0K7ZX6nP3C",
        "outputId": "427a2bf2-565b-40ec-ad93-474906532f83"
      },
      "execution_count": 2,
      "outputs": [
        {
          "output_type": "stream",
          "name": "stdout",
          "text": [
            "Original array: [1 2 3 6 4 5]\n",
            "Reversed array: [5 4 6 3 2 1]\n"
          ]
        }
      ]
    },
    {
      "cell_type": "markdown",
      "source": [
        "b. Find the most frequent value and their indice(s) in the following arrays:\n",
        "i. x = np.array([1,2,3,4,5,1,2,1,1,1])\n",
        "ii. y = np.array([1, 1, 1, 2, 3, 4, 2, 4, 3, 3, ])"
      ],
      "metadata": {
        "id": "p2TlkDxtnZMW"
      }
    },
    {
      "cell_type": "code",
      "source": [
        "x = np.array([1, 2, 3, 4, 5, 1, 2, 1, 1, 1])\n",
        "values, counts = np.unique(x, return_counts=True)\n",
        "max_count = counts.max()\n",
        "mode_values = values[counts == max_count]\n",
        "\n",
        "# Most frequent value and their indices\n",
        "mode_x = mode_values[0]\n",
        "indices_x = np.where(x == mode_x)[0]\n",
        "print(\"Most frequent values =\", mode_x)\n",
        "print(\"Their values =\", indices_x)\n",
        "\n",
        "y = np.array([1, 1, 1, 2, 3, 4, 2, 4, 3, 3])\n",
        "values, counts = np.unique(y, return_counts=True)\n",
        "max_count = counts.max()\n",
        "mode_values = values[counts == max_count]\n",
        "\n",
        "# Most frequent values and their indices\n",
        "modes_indices_y = [(val, np.where(y == val)[0]) for val in mode_values]\n",
        "print(modes_indices_y)\n",
        "print(mode_values)"
      ],
      "metadata": {
        "colab": {
          "base_uri": "https://localhost:8080/"
        },
        "id": "_3mzI4W4nh7a",
        "outputId": "d7f92ad7-af1a-4782-d73c-96678c038120"
      },
      "execution_count": 3,
      "outputs": [
        {
          "output_type": "stream",
          "name": "stdout",
          "text": [
            "Most frequent values = 1\n",
            "Their values = [0 5 7 8 9]\n",
            "[(1, array([0, 1, 2])), (3, array([4, 8, 9]))]\n",
            "[1 3]\n"
          ]
        }
      ]
    },
    {
      "cell_type": "markdown",
      "source": [
        "Q.3 For the given 2-D array arr=np.array([10, 20, 30], [40, 50, 60], [70, 80, 90]), access\n",
        "elements using row and column indices as follows:\n",
        "a. Access 1st row, 2nd column\n",
        "b. Access 3rd row, 1st column\n"
      ],
      "metadata": {
        "id": "THWiS8CEonhZ"
      }
    },
    {
      "cell_type": "code",
      "source": [
        "import numpy as np\n",
        "\n",
        "arr = np.array([[10, 20, 30], [40, 50, 60], [70, 80, 90]])\n",
        "\n",
        "# a) Access 1st row, 2nd column\n",
        "element_1 = arr[0, 1]\n",
        "print(f\"Element at 1st row, 2nd column: {element_1}\")\n",
        "\n",
        "# b) Access 3rd row, 1st column\n",
        "element_2 = arr[2, 0]\n",
        "print(f\"Element at 3rd row, 1st column: {element_2}\")\n"
      ],
      "metadata": {
        "colab": {
          "base_uri": "https://localhost:8080/"
        },
        "id": "firsyzYyoq5A",
        "outputId": "585eadbb-3875-43ee-fb17-1be06c19ac51"
      },
      "execution_count": 4,
      "outputs": [
        {
          "output_type": "stream",
          "name": "stdout",
          "text": [
            "Element at 1st row, 2nd column: 20\n",
            "Element at 3rd row, 1st column: 70\n"
          ]
        }
      ]
    },
    {
      "cell_type": "markdown",
      "source": [
        "Q.4 Write program to create an 1-D NumPy array named <<Your Name>> with evenly\n",
        "spaced 25 numbers from 10 to 100 using linspace(). Print the dimensions of the array,\n",
        "shape, total elements, the data type of each element and total number of bytes consumed\n",
        "by the array. Find the transpose of this array using reshape() attribute. Can we do the same\n",
        "with T attribute?"
      ],
      "metadata": {
        "id": "4n9GlXsMp3al"
      }
    },
    {
      "cell_type": "code",
      "source": [
        "import numpy as np\n",
        "\n",
        "Omprakash = np.linspace(10, 100, 25)\n",
        "\n",
        "dimensions = Omprakash.ndim\n",
        "shape = Omprakash.shape\n",
        "total_elements = Omprakash.size\n",
        "data_type = Omprakash.dtype\n",
        "bytes_consumed = Omprakash.nbytes\n",
        "\n",
        "print(\"Array:\", Omprakash)\n",
        "print(\"Dimensions:\", dimensions)\n",
        "print(\"Shape:\", shape)\n",
        "print(\"Total elements:\", total_elements)\n",
        "print(\"Data type:\", data_type)\n",
        "print(\"Bytes consumed:\", bytes_consumed)\n",
        "\n",
        "transpose_reshape = Omprakash.reshape(25, 1)\n",
        "transpose_T = Omprakash.T\n",
        "\n",
        "print(\"\\nTranspose using reshape():\\n\", transpose_reshape)\n",
        "print(\"\\nTranspose using T attribute:\\n\", transpose_T)"
      ],
      "metadata": {
        "colab": {
          "base_uri": "https://localhost:8080/"
        },
        "id": "IG2Wc4kbqRRx",
        "outputId": "69c1d73d-a320-418d-b396-00d0aad76497"
      },
      "execution_count": 5,
      "outputs": [
        {
          "output_type": "stream",
          "name": "stdout",
          "text": [
            "Array: [ 10.    13.75  17.5   21.25  25.    28.75  32.5   36.25  40.    43.75\n",
            "  47.5   51.25  55.    58.75  62.5   66.25  70.    73.75  77.5   81.25\n",
            "  85.    88.75  92.5   96.25 100.  ]\n",
            "Dimensions: 1\n",
            "Shape: (25,)\n",
            "Total elements: 25\n",
            "Data type: float64\n",
            "Bytes consumed: 200\n",
            "\n",
            "Transpose using reshape():\n",
            " [[ 10.  ]\n",
            " [ 13.75]\n",
            " [ 17.5 ]\n",
            " [ 21.25]\n",
            " [ 25.  ]\n",
            " [ 28.75]\n",
            " [ 32.5 ]\n",
            " [ 36.25]\n",
            " [ 40.  ]\n",
            " [ 43.75]\n",
            " [ 47.5 ]\n",
            " [ 51.25]\n",
            " [ 55.  ]\n",
            " [ 58.75]\n",
            " [ 62.5 ]\n",
            " [ 66.25]\n",
            " [ 70.  ]\n",
            " [ 73.75]\n",
            " [ 77.5 ]\n",
            " [ 81.25]\n",
            " [ 85.  ]\n",
            " [ 88.75]\n",
            " [ 92.5 ]\n",
            " [ 96.25]\n",
            " [100.  ]]\n",
            "\n",
            "Transpose using T attribute:\n",
            " [ 10.    13.75  17.5   21.25  25.    28.75  32.5   36.25  40.    43.75\n",
            "  47.5   51.25  55.    58.75  62.5   66.25  70.    73.75  77.5   81.25\n",
            "  85.    88.75  92.5   96.25 100.  ]\n"
          ]
        }
      ]
    },
    {
      "cell_type": "markdown",
      "source": [
        "Q5. Create a 2-D Array of three rows and four columns, named ucs420_<your_name>>\n",
        "with following values – 10, 20, 30, 40, 50, 60, 70, 80, 90, 15, 20, 35. Compute the mean,\n",
        "median, max, min, unique elements. Reshape the array to four rows and three columns and\n",
        "name it as reshaped_ ucs420_<your_name>>. Resize the array to two rows and three\n",
        "columns and name it as resized_ ucs420_<your_name>>."
      ],
      "metadata": {
        "id": "qlaeJQx6q3qr"
      }
    },
    {
      "cell_type": "code",
      "source": [
        "import numpy as np\n",
        "\n",
        "# Create the 2-D array\n",
        "ucs420_Omprakash = np.array([[10, 20, 30, 40], [50, 60, 70, 80], [90, 15, 20, 35]])\n",
        "\n",
        "# Compute mean, median, max, min, unique elements\n",
        "mean_val = np.mean(ucs420_Omprakash)\n",
        "median_val = np.median(ucs420_Omprakash)\n",
        "max_val = np.max(ucs420_Omprakash)\n",
        "min_val = np.min(ucs420_Omprakash)\n",
        "unique_elements = np.unique(ucs420_Omprakash)\n",
        "\n",
        "print(\"Array:\\n\", ucs420_Omprakash)\n",
        "print(\"Mean:\", mean_val)\n",
        "print(\"Median:\", median_val)\n",
        "print(\"Max:\", max_val)\n",
        "print(\"Min:\", min_val)\n",
        "print(\"Unique elements:\", unique_elements)\n",
        "\n",
        "# Reshape the array to four rows and three columns\n",
        "reshaped_ucs420_Omprakash = ucs420_Omprakash.reshape(4, 3)\n",
        "print(\"\\nReshaped Array (4x3):\\n\", reshaped_ucs420_Omprakash)\n",
        "\n",
        "# Resize the array to two rows and three columns\n",
        "resized_ucs420_Omprakash = np.resize(ucs420_Omprakash, (2, 3))\n",
        "print(\"\\nResized Array (2x3):\\n\", resized_ucs420_Omprakash)"
      ],
      "metadata": {
        "colab": {
          "base_uri": "https://localhost:8080/"
        },
        "id": "JabDDa5kq5Tr",
        "outputId": "f0fa0c09-2914-4e2c-cf5a-0259528f6707"
      },
      "execution_count": 6,
      "outputs": [
        {
          "output_type": "stream",
          "name": "stdout",
          "text": [
            "Array:\n",
            " [[10 20 30 40]\n",
            " [50 60 70 80]\n",
            " [90 15 20 35]]\n",
            "Mean: 43.333333333333336\n",
            "Median: 37.5\n",
            "Max: 90\n",
            "Min: 10\n",
            "Unique elements: [10 15 20 30 35 40 50 60 70 80 90]\n",
            "\n",
            "Reshaped Array (4x3):\n",
            " [[10 20 30]\n",
            " [40 50 60]\n",
            " [70 80 90]\n",
            " [15 20 35]]\n",
            "\n",
            "Resized Array (2x3):\n",
            " [[10 20 30]\n",
            " [40 50 60]]\n"
          ]
        }
      ]
    }
  ]
}