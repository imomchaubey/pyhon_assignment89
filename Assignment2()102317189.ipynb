{
  "nbformat": 4,
  "nbformat_minor": 0,
  "metadata": {
    "colab": {
      "provenance": [],
      "authorship_tag": "ABX9TyMRe9e10skRQDNzR1d7AmbC",
      "include_colab_link": true
    },
    "kernelspec": {
      "name": "python3",
      "display_name": "Python 3"
    },
    "language_info": {
      "name": "python"
    }
  },
  "cells": [
    {
      "cell_type": "markdown",
      "metadata": {
        "id": "view-in-github",
        "colab_type": "text"
      },
      "source": [
        "<a href=\"https://colab.research.google.com/github/om640/pyhon_assignment89/blob/main/Assignment2()102317189.ipynb\" target=\"_parent\"><img src=\"https://colab.research.google.com/assets/colab-badge.svg\" alt=\"Open In Colab\"/></a>"
      ]
    },
    {
      "cell_type": "markdown",
      "source": [
        "Create a List L that is defined as= [10, 20, 30, 40, 50, 60, 70, 80].\n",
        "i. WAP to add 200 and 300 to L.\n",
        "ii. WAP to remove 10 and 30 from L.\n",
        "iii. WAP to sort L in ascending order.\n",
        "iv. WAP to sort L in descending order."
      ],
      "metadata": {
        "id": "sT6WqP0vkeW5"
      }
    },
    {
      "cell_type": "code",
      "source": [
        "# the given list\n",
        "L = [10,20,30,40,50,60,70,80]\n",
        "\n",
        "# adding 200 and 300 in L.\n",
        "\n",
        "L.append(200)\n",
        "L.append(300)\n",
        "print(\"after adding 200 and 300\",L)\n",
        "\n",
        "# removing 10 and 30 from L\n",
        "L.remove(10)\n",
        "L.remove(30)\n",
        "print(\"after removing 10 and 30\",L)\n",
        "\n",
        "# sorting L in ascending order\n",
        "L.sort()\n",
        "print(\"after sorting L\",L)\n",
        "\n",
        "# sorting L in descending order\n",
        "L.sort(reverse = True)\n",
        "print(\"after sorting in descending order\",L)"
      ],
      "metadata": {
        "colab": {
          "base_uri": "https://localhost:8080/"
        },
        "id": "dHZoIN8Qki7X",
        "outputId": "7c09b4db-cb78-4581-c231-0d3ceccfe762"
      },
      "execution_count": null,
      "outputs": [
        {
          "output_type": "stream",
          "name": "stdout",
          "text": [
            "after adding 200 and 300 [10, 20, 30, 40, 50, 60, 70, 80, 200, 300]\n",
            "after removing 10 and 30 [20, 40, 50, 60, 70, 80, 200, 300]\n",
            "after sorting L [20, 40, 50, 60, 70, 80, 200, 300]\n",
            "after sorting in descending order [300, 200, 80, 70, 60, 50, 40, 20]\n"
          ]
        }
      ]
    },
    {
      "cell_type": "markdown",
      "source": [
        "Create a tuple of marks scored as scores = (45, 89.5, 76, 45.4, 89, 92, 58, 45) and\n",
        "perform the following operations using tuple functions:\n",
        "i. Identify the highest score and its index in the tuple.\n",
        "ii. Find the lowest score and count how many times it appears.\n",
        "iii. Reverse the tuple and return it as a list.\n",
        "iv. Check if a specific score ‘76’ (input by the user) is present in the tuple and\n",
        "print its first occurrence index, or a message saying it’s not present.\n"
      ],
      "metadata": {
        "id": "6e7EAvKTl3a1"
      }
    },
    {
      "cell_type": "code",
      "source": [
        "# The given tuple\n",
        "scores = (45, 89.5, 76, 45.4, 89, 92, 58, 45)\n",
        "\n",
        "# Identifying the highest score and its index\n",
        "highest_score = max(scores)\n",
        "highest_score_index = scores.index(highest_score)\n",
        "print(\"The highest score is: \", highest_score)\n",
        "print(\"The index of the highest score is: \", highest_score_index)\n",
        "\n",
        "# Finding the lowest score and count how many times it appears\n",
        "lowest_score = min(scores)\n",
        "count_lowest_score = scores.count(lowest_score)\n",
        "print(\"The lowest score is: \", lowest_score)\n",
        "print(\"The count of the lowest score is: \", count_lowest_score)\n",
        "\n",
        "# Reverse the tuple and return it as a list\n",
        "reversed_scores = list(scores[::-1])\n",
        "print(\"The reversed tuple is:\", reversed_scores)\n",
        "\n",
        "# Check if a specific score ‘76’ is present in the tuple and print its first occurrence index\n",
        "target_score = 76\n",
        "\n",
        "if target_score in scores:\n",
        "    occurrence_index = scores.index(target_score)\n",
        "    print(f\"The score {target_score} is present at index:\", occurrence_index)\n",
        "else:\n",
        "    print(f\"The score {target_score} is not present in the tuple\")\n"
      ],
      "metadata": {
        "colab": {
          "base_uri": "https://localhost:8080/"
        },
        "id": "dr9LwSYcl7o1",
        "outputId": "73c997db-135e-47ac-e6df-44b0e001c150"
      },
      "execution_count": null,
      "outputs": [
        {
          "output_type": "stream",
          "name": "stdout",
          "text": [
            "The highest score is:  92\n",
            "The index of the highest score is:  5\n",
            "The lowest score is:  45\n",
            "The count of the lowest score is:  2\n",
            "The reversed tuple is: [45, 58, 92, 89, 45.4, 76, 89.5, 45]\n",
            "The score 76 is present at index: 2\n"
          ]
        }
      ]
    },
    {
      "cell_type": "markdown",
      "source": [
        "WAP to create a list of 100 random numbers between 100 and 900. Count and print\n",
        "the:\n",
        "i. All odd numbers\n",
        "ii. All even numbers\n",
        "iii. All prime numbers"
      ],
      "metadata": {
        "id": "kkMYpCKup1Ay"
      }
    },
    {
      "cell_type": "code",
      "source": [
        "import random\n",
        "# creating the list of 100 random numbers between 100 and 900\n",
        "numbers = [random.randint(100,900) for _ in range(100)]\n",
        "\n",
        "# to check the prime numbers\n",
        "def is_prime(n):\n",
        "  if n<= 1:\n",
        "    return False\n",
        "  for i in range(2,int(n**0.5)+1):\n",
        "    if n % i ==0:\n",
        "      return False\n",
        "  return True\n",
        "\n",
        "  #to store the odd, even and prime numbers\n",
        "odd_numbers = []\n",
        "even_numbers = []\n",
        "prime_numbers = []\n",
        "\n",
        "for num in numbers:\n",
        "  if num % 2 == 0:\n",
        "    even_numbers.append(num)\n",
        "  else:\n",
        "    odd_numbers.append(num)\n",
        "\n",
        "  if is_prime(num):\n",
        "    prime_numbers.append(num)\n",
        "\n",
        "#printing the result\n",
        "print(\"list of random numbers:\",numbers)\n",
        "print(\"even numbers :\",even_numbers)\n",
        "print(\"count of even numbers\",len(even_numbers))\n",
        "print(\"odd numbers : \", odd_numbers)\n",
        "print(\"count of odd numbers: \",len(odd_numbers))\n",
        "print(\"prime numbers : \",prime_numbers)\n",
        "print(\"count of prime numbers\",len(prime_numbers))\n",
        "\n",
        "\n"
      ],
      "metadata": {
        "colab": {
          "base_uri": "https://localhost:8080/"
        },
        "id": "GYBZd3hsqsdR",
        "outputId": "b07ed8b3-0dd5-4378-8bd3-55cddff00d85"
      },
      "execution_count": null,
      "outputs": [
        {
          "output_type": "stream",
          "name": "stdout",
          "text": [
            "list of random numbers: [269, 455, 754, 749, 440, 795, 383, 306, 774, 695, 386, 820, 817, 161, 403, 387, 234, 621, 665, 623, 186, 533, 716, 704, 396, 337, 558, 645, 698, 437, 648, 569, 244, 347, 569, 723, 295, 489, 118, 849, 473, 565, 656, 783, 690, 708, 857, 302, 895, 293, 430, 219, 780, 651, 285, 682, 353, 320, 688, 216, 647, 606, 254, 589, 552, 743, 269, 581, 100, 530, 330, 507, 850, 375, 125, 660, 459, 201, 744, 780, 243, 448, 893, 729, 606, 188, 480, 615, 640, 650, 849, 195, 649, 512, 127, 647, 585, 402, 877, 183]\n",
            "even numbers : [754, 440, 306, 774, 386, 820, 234, 186, 716, 704, 396, 558, 698, 648, 244, 118, 656, 690, 708, 302, 430, 780, 682, 320, 688, 216, 606, 254, 552, 100, 530, 330, 850, 660, 744, 780, 448, 606, 188, 480, 640, 650, 512, 402]\n",
            "count of even numbers 44\n",
            "odd numbers :  [269, 455, 749, 795, 383, 695, 817, 161, 403, 387, 621, 665, 623, 533, 337, 645, 437, 569, 347, 569, 723, 295, 489, 849, 473, 565, 783, 857, 895, 293, 219, 651, 285, 353, 647, 589, 743, 269, 581, 507, 375, 125, 459, 201, 243, 893, 729, 615, 849, 195, 649, 127, 647, 585, 877, 183]\n",
            "count of odd numbers:  56\n",
            "prime numbers :  [269, 383, 337, 569, 347, 569, 857, 293, 353, 647, 743, 269, 127, 647, 877]\n",
            "count of prime numbers 15\n"
          ]
        }
      ]
    },
    {
      "cell_type": "markdown",
      "source": [
        "Consider the following two sets, A and B, represenƟng scores of two teams in mulƟple\n",
        "matches. A = {34, 56, 78, 90} and B = {78, 45, 90, 23}\n",
        "WAP to perform the following operaƟons using set funcƟons:\n",
        "i. Find the unique scores achieved by both teams (union of sets).\n",
        "ii. IdenƟfy the scores that are common to both teams (intersecƟon of sets).\n",
        "iii. Find the scores that are exclusive to each team (symmetric difference).\n",
        "iv. Check if the scores of team A are a subset of team B, and if team B's scores are\n",
        "a superset of team A.\n",
        "v. Remove a specific score 𝑋 (input by the user) from set A if it exists. If not, print\n",
        "a message saying it is not present."
      ],
      "metadata": {
        "id": "qGcMVzSYt-Ig"
      }
    },
    {
      "cell_type": "code",
      "source": [
        "A = {34,56,78,90}\n",
        "B = {78,45,90,23}\n",
        "\n",
        "union_marks = A.union(B)\n",
        "print(\"union scores achieved by both teams :\",union_marks)\n",
        "\n",
        "common_marks = A.intersection(B)\n",
        "print(\"common scores achieved by both teams\",common_marks)\n",
        "\n",
        "symmetric_marks = A.symmetric_difference(B)\n",
        "print(\"scores symmetruc to each other \",symmetric_marks)\n",
        "\n",
        "is_subset = A.issubset(B)\n",
        "is_superset = B.issuperset(A)\n",
        "\n",
        "print(\"team A's scores are a subset of team B\",is_subset)\n",
        "print(\"team B's scores are a superset of team A\",is_superset)\n",
        "\n",
        "W = int(input(\"Enter the score to remove from set A: \"))\n",
        "\n",
        "if W in A:\n",
        "  A.remove(W)\n",
        "  print(\"score\",W,\"removed from set A.\",A)\n",
        "else:\n",
        " print(\"score\",W,\"is not present in set A.\")"
      ],
      "metadata": {
        "colab": {
          "base_uri": "https://localhost:8080/"
        },
        "id": "Rqnzp14Xt_sE",
        "outputId": "98adf60f-9a17-4157-dc6b-42d1b4c79ca9"
      },
      "execution_count": null,
      "outputs": [
        {
          "output_type": "stream",
          "name": "stdout",
          "text": [
            "union scores achieved by both teams : {34, 45, 78, 23, 56, 90}\n",
            "common scores achieved by both teams {90, 78}\n",
            "scores symmetruc to each other  {34, 45, 23, 56}\n",
            "team A's scores are a subset of team B False\n",
            "team B's scores are a superset of team A False\n",
            "Enter the score to remove from set A: 77\n",
            "score 77 is not present in set A.\n"
          ]
        }
      ]
    },
    {
      "cell_type": "markdown",
      "source": [
        "Consider the following two sets, A and B, represenƟng scores of two teams in mulƟple\n",
        "matches. A = {34, 56, 78, 90} and B = {78, 45, 90, 23}\n",
        "WAP to perform the following operaƟons using set funcƟons:\n",
        "i. Find the unique scores achieved by both teams (union of sets).\n",
        "ii. IdenƟfy the scores that are common to both teams (intersecƟon of sets).\n",
        "iii. Find the scores that are exclusive to each team (symmetric difference).\n",
        "iv. Check if the scores of team A are a subset of team B, and if team B's scores are\n",
        "a superset of team A.\n",
        "v. Remove a specific score 𝑋 (input by the user) from set A if it exists. If not, print\n",
        "a message saying it is not present."
      ],
      "metadata": {
        "id": "swqbAWS8w5vr"
      }
    },
    {
      "cell_type": "code",
      "source": [
        "sample_dict = {\n",
        "    \"name\": \"kelly\",\n",
        "    \"age\" : 25,\n",
        "    \"salary\" : 8000,\n",
        "    \"city\" : \"New york\"\n",
        "}\n",
        "\n",
        "sample_dict[\"location\"] = sample_dict.pop(\"city\")\n",
        "\n",
        "print(sample_dict)"
      ],
      "metadata": {
        "colab": {
          "base_uri": "https://localhost:8080/"
        },
        "id": "CxtsClE-xrv-",
        "outputId": "85c55d29-57a8-48f0-c9c0-011fd6a0737f"
      },
      "execution_count": null,
      "outputs": [
        {
          "output_type": "stream",
          "name": "stdout",
          "text": [
            "{'name': 'kelly', 'age': 25, 'salary': 8000, 'location': 'New york'}\n"
          ]
        }
      ]
    }
  ]
}