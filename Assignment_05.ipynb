{
  "nbformat": 4,
  "nbformat_minor": 0,
  "metadata": {
    "colab": {
      "provenance": [],
      "authorship_tag": "ABX9TyMa4IKUOyGcO0qysR3UfKpp",
      "include_colab_link": true
    },
    "kernelspec": {
      "name": "python3",
      "display_name": "Python 3"
    },
    "language_info": {
      "name": "python"
    }
  },
  "cells": [
    {
      "cell_type": "markdown",
      "metadata": {
        "id": "view-in-github",
        "colab_type": "text"
      },
      "source": [
        "<a href=\"https://colab.research.google.com/github/imomchaubey/pyhon_assignment89/blob/main/Assignment_05.ipynb\" target=\"_parent\"><img src=\"https://colab.research.google.com/assets/colab-badge.svg\" alt=\"Open In Colab\"/></a>"
      ]
    },
    {
      "cell_type": "markdown",
      "source": [
        "Q.1 For the array gfg = np.matrix('[4, 1, 9; 12, 3, 1; 4, 5, 6]'), Find\n",
        "i. Sum of all elements\n",
        "ii. Sum of all elements row-wise\n",
        "iii. Sum of all elements column-wise"
      ],
      "metadata": {
        "id": "EmDFoAFTMMvb"
      }
    },
    {
      "cell_type": "code",
      "source": [
        "import numpy as np\n",
        "\n",
        "# Creating the matrix\n",
        "gfg = np.matrix('[4, 1, 9; 12, 3, 1; 4, 5, 6]')\n",
        "\n",
        "# i. Sum of all elements\n",
        "total_sum = np.sum(gfg)\n",
        "print(\"Sum of all elements:\", total_sum)\n",
        "\n",
        "# ii. Sum of all elements row-wise\n",
        "row_wise_sum = np.sum(gfg, axis=1)\n",
        "print(\"Sum of all elements row-wise:\", row_wise_sum)\n",
        "\n",
        "# iii. Sum of all elements column-wise\n",
        "column_wise_sum = np.sum(gfg, axis=0)\n",
        "print(\"Sum of all elements column-wise:\", column_wise_sum)"
      ],
      "metadata": {
        "colab": {
          "base_uri": "https://localhost:8080/"
        },
        "id": "4MTaXQIAMP9r",
        "outputId": "ab71b9c1-fe32-4453-d439-b572fc2835d6"
      },
      "execution_count": 1,
      "outputs": [
        {
          "output_type": "stream",
          "name": "stdout",
          "text": [
            "Sum of all elements: 45\n",
            "Sum of all elements row-wise: [[14]\n",
            " [16]\n",
            " [15]]\n",
            "Sum of all elements column-wise: [[20  9 16]]\n"
          ]
        }
      ]
    },
    {
      "cell_type": "markdown",
      "source": [
        "Q.2 (a)For the array: array = np.array([10, 52, 62, 16, 16, 54, 453]), find\n",
        "i. Sorted array\n",
        "ii. Indices of sorted array\n",
        "iii. 4 smallest elements\n",
        "iv. 5 largest elements"
      ],
      "metadata": {
        "id": "2vLF58LSMgHj"
      }
    },
    {
      "cell_type": "code",
      "source": [
        "import numpy as np\n",
        "\n",
        "# Creating the array\n",
        "array = np.array([10, 52, 62, 16, 16, 54, 453])\n",
        "\n",
        "# i. Sorted array\n",
        "sorted_array = np.sort(array)\n",
        "print(\"Sorted array:\", sorted_array)\n",
        "\n",
        "# ii. Indices of sorted array\n",
        "sorted_indices = np.argsort(array)\n",
        "print(\"Indices of sorted array:\", sorted_indices)\n",
        "\n",
        "# iii. 4 smallest elements\n",
        "smallest_elements = np.partition(array, 4)[:4]\n",
        "print(\"4 smallest elements:\", smallest_elements)\n",
        "\n",
        "# iv. 5 largest elements\n",
        "largest_elements = np.partition(array, -5)[-5:]\n",
        "print(\"5 largest elements:\", largest_elements)\n"
      ],
      "metadata": {
        "colab": {
          "base_uri": "https://localhost:8080/"
        },
        "id": "XEC1udmoMrgU",
        "outputId": "a6e6e7f5-e92b-4190-ac6b-0148adda9724"
      },
      "execution_count": 2,
      "outputs": [
        {
          "output_type": "stream",
          "name": "stdout",
          "text": [
            "Sorted array: [ 10  16  16  52  54  62 453]\n",
            "Indices of sorted array: [0 3 4 1 5 2 6]\n",
            "4 smallest elements: [16 10 16 52]\n",
            "5 largest elements: [ 16  52  62  54 453]\n"
          ]
        }
      ]
    },
    {
      "cell_type": "markdown",
      "source": [
        "(b) For the array: array = np.array([1.0, 1.2, 2.2, 2.0, 3.0, 2.0]), find\n",
        "i. Integer elements only\n",
        "ii. Float elements only"
      ],
      "metadata": {
        "id": "whgnQT6BM3Zn"
      }
    },
    {
      "cell_type": "code",
      "source": [
        "import numpy as np\n",
        "\n",
        "# Creating the array\n",
        "array = np.array([1.0, 1.2, 2.2, 2.0, 3.0, 2.0])\n",
        "\n",
        "# i. Integer elements only\n",
        "integer_elements = array[array == array.astype(int)]\n",
        "print(\"Integer elements only:\", integer_elements)\n",
        "\n",
        "# ii. Float elements only\n",
        "float_elements = array[array != array.astype(int)]\n",
        "print(\"Float elements only:\", float_elements)\n"
      ],
      "metadata": {
        "colab": {
          "base_uri": "https://localhost:8080/"
        },
        "id": "YkBWF6FzM6f1",
        "outputId": "9f3dd74d-babf-453f-d329-a897ed5e3d20"
      },
      "execution_count": 3,
      "outputs": [
        {
          "output_type": "stream",
          "name": "stdout",
          "text": [
            "Integer elements only: [1. 2. 3. 2.]\n",
            "Float elements only: [1.2 2.2]\n"
          ]
        }
      ]
    },
    {
      "cell_type": "markdown",
      "source": [
        "Q.3 You are given a weekly sales dataset and need to perform various operations\n",
        "using NumPy broadcasting.\n",
        "a. Generate your unique sales dataset:\n",
        " Take the sum of the ASCII values of the initials of your first and last\n",
        "name. Call this value X. (If your initials are A B → ASCII sum = 65\n",
        "+ 66 = 131 → sales = [131, 181, 231, 281, 331].)\n",
        " Create a NumPy array sales with values [X, X+50, X+100, X+150,\n",
        "X+200]."
      ],
      "metadata": {
        "id": "feYcSutANLDl"
      }
    },
    {
      "cell_type": "code",
      "source": [
        "import numpy as np\n",
        "\n",
        "# Calculate the ASCII values of the initials\n",
        "initials = ['A', 'B']  # Replace these with your initials\n",
        "ascii_sum = sum(ord(char) for char in initials)\n",
        "X = ascii_sum\n",
        "\n",
        "# Create the sales array with values [X, X+50, X+100, X+150, X+200]\n",
        "sales = np.array([X, X+50, X+100, X+150, X+200])\n",
        "\n",
        "print(\"ASCII sum (X):\", X)\n",
        "print(\"Sales array:\", sales)\n",
        "\n"
      ],
      "metadata": {
        "colab": {
          "base_uri": "https://localhost:8080/"
        },
        "id": "FN1Xxl_SNOPe",
        "outputId": "65d6c610-f1d0-4378-d04a-e385d88abf33"
      },
      "execution_count": 5,
      "outputs": [
        {
          "output_type": "stream",
          "name": "stdout",
          "text": [
            "ASCII sum (X): 131\n",
            "Sales array: [131 181 231 281 331]\n"
          ]
        }
      ]
    },
    {
      "cell_type": "markdown",
      "source": [
        "b. Compute your personalized tax rate as ((X % 5) + 5) / 100.\n",
        " Use broadcasting to apply this tax rate to each sales value."
      ],
      "metadata": {
        "id": "_CC81eXTN5qA"
      }
    },
    {
      "cell_type": "code",
      "source": [
        "import numpy as np\n",
        "\n",
        "# Calculate the ASCII values of the initials\n",
        "initials = ['A', 'B']  # Replace these with your initials\n",
        "ascii_sum = sum(ord(char) for char in initials)\n",
        "X = ascii_sum\n",
        "\n",
        "# Create the sales array with values [X, X+50, X+100, X+150, X+200]\n",
        "sales = np.array([X, X+50, X+100, X+150, X+200])\n",
        "\n",
        "# Compute the personalized tax rate\n",
        "tax_rate = ((X % 5) + 5) / 100\n",
        "print(\"Personalized tax rate:\", tax_rate)\n",
        "\n",
        "# Use broadcasting to apply the tax rate to each sales value\n",
        "tax_applied = sales * tax_rate\n",
        "print(\"Sales array with tax applied:\", tax_applied)\n"
      ],
      "metadata": {
        "colab": {
          "base_uri": "https://localhost:8080/"
        },
        "id": "Itn9kYMvN8p-",
        "outputId": "2d4bca37-dff7-451d-81ff-0c21c0612d94"
      },
      "execution_count": 6,
      "outputs": [
        {
          "output_type": "stream",
          "name": "stdout",
          "text": [
            "Personalized tax rate: 0.06\n",
            "Sales array with tax applied: [ 7.86 10.86 13.86 16.86 19.86]\n"
          ]
        }
      ]
    },
    {
      "cell_type": "markdown",
      "source": [
        "c. Adjust sales based on discount:\n",
        " If sales < X+100, apply a 5% discount.\n",
        " If sales >= X+100, apply a 10% discount."
      ],
      "metadata": {
        "id": "hjjVwK-SOCs1"
      }
    },
    {
      "cell_type": "code",
      "source": [
        "import numpy as np\n",
        "\n",
        "# Calculate the ASCII values of the initials\n",
        "initials = ['A', 'B']  # Replace these with your initials\n",
        "ascii_sum = sum(ord(char) for char in initials)\n",
        "X = ascii_sum\n",
        "\n",
        "# Create the sales array with values [X, X+50, X+100, X+150, X+200]\n",
        "sales = np.array([X, X+50, X+100, X+150, X+200])\n",
        "\n",
        "# Define the discount conditions and apply the discounts\n",
        "discounted_sales = np.where(sales < X + 100, sales * 0.95, sales * 0.90)\n",
        "\n",
        "print(\"Original sales array:\", sales)\n",
        "print(\"Discounted sales array:\", discounted_sales)\n"
      ],
      "metadata": {
        "colab": {
          "base_uri": "https://localhost:8080/"
        },
        "id": "BX31oIQ3OPtc",
        "outputId": "15e2cc01-5d3e-405a-cb4e-2928cc85c376"
      },
      "execution_count": 7,
      "outputs": [
        {
          "output_type": "stream",
          "name": "stdout",
          "text": [
            "Original sales array: [131 181 231 281 331]\n",
            "Discounted sales array: [124.45 171.95 207.9  252.9  297.9 ]\n"
          ]
        }
      ]
    },
    {
      "cell_type": "markdown",
      "source": [
        "d. Expand sales data for multiple weeks:\n",
        " Create a 3×5 matrix representing three weeks of sales by stacking\n",
        "sales three times using broadcasting.\n",
        " Increase sales by 2% per week using element-wise broadcasting."
      ],
      "metadata": {
        "id": "l71w29kIOYpA"
      }
    },
    {
      "cell_type": "code",
      "source": [
        "import numpy as np\n",
        "\n",
        "# Calculate the ASCII values of the initials\n",
        "initials = ['A', 'B']  # Replace these with your initials\n",
        "ascii_sum = sum(ord(char) for char in initials)\n",
        "X = ascii_sum\n",
        "\n",
        "# Create the sales array with values [X, X+50, X+100, X+150, X+200]\n",
        "sales = np.array([X, X+50, X+100, X+150, X+200])\n",
        "\n",
        "# Create a 3x5 matrix representing three weeks of sales\n",
        "weekly_sales = np.tile(sales, (3, 1))\n",
        "\n",
        "# Increase sales by 2% per week\n",
        "weeks = np.arange(3).reshape(-1, 1)  # Array representing weeks [0, 1, 2]\n",
        "weekly_sales = weekly_sales * (1 + 0.02 * weeks)\n",
        "\n",
        "print(\"3x5 matrix representing three weeks of sales:\\n\", weekly_sales)\n"
      ],
      "metadata": {
        "colab": {
          "base_uri": "https://localhost:8080/"
        },
        "id": "BtK1VkvdOawc",
        "outputId": "1cfc23b6-28d3-486a-bea0-cdba35e23509"
      },
      "execution_count": 8,
      "outputs": [
        {
          "output_type": "stream",
          "name": "stdout",
          "text": [
            "3x5 matrix representing three weeks of sales:\n",
            " [[131.   181.   231.   281.   331.  ]\n",
            " [133.62 184.62 235.62 286.62 337.62]\n",
            " [136.24 188.24 240.24 292.24 344.24]]\n"
          ]
        }
      ]
    },
    {
      "cell_type": "markdown",
      "source": [
        "Q4. Generate x values using np.linspace() from -10 to 10 with 100 points. Use\n",
        "each function from the list below and compute y values using NumPy:\n",
        " Y = x2\n",
        " Y = sin(x)\n",
        " Y = ex\n",
        " Y = log(|x| + 1)\n",
        "Plot the chosen function using Matplotlib. Add title, labels, and grid for clarity."
      ],
      "metadata": {
        "id": "TI_XOs9dOiYO"
      }
    },
    {
      "cell_type": "code",
      "source": [
        "import numpy as np\n",
        "import matplotlib.pyplot as plt\n",
        "\n",
        "# Generate x values\n",
        "x = np.linspace(-10, 10, 100)\n",
        "\n",
        "# Compute y values\n",
        "y1 = x**2\n",
        "y2 = np.sin(x)\n",
        "y3 = np.exp(x)\n",
        "y4 = np.log(np.abs(x) + 1)\n",
        "\n",
        "# Create plots\n",
        "plt.figure(figsize=(10, 6))\n",
        "plt.plot(x, y1, label='y = x^2')\n",
        "plt.plot(x, y2, label='y = sin(x)')\n",
        "plt.plot(x, y3, label='y = e^x')\n",
        "plt.plot(x, y4, label='y = log(|x| + 1)')\n",
        "\n",
        "# Add title, labels, legend, and grid\n",
        "plt.title('Mathematical Functions')\n",
        "plt.xlabel('x values')\n",
        "plt.ylabel('y values')\n",
        "plt.legend()\n",
        "plt.grid(True)\n",
        "\n",
        "# Show plot\n",
        "plt.show()\n"
      ],
      "metadata": {
        "colab": {
          "base_uri": "https://localhost:8080/",
          "height": 564
        },
        "id": "fgvXEEbcO7On",
        "outputId": "4c28d9ae-a6e0-47c1-b444-06eb06399669"
      },
      "execution_count": 9,
      "outputs": [
        {
          "output_type": "display_data",
          "data": {
            "text/plain": [
              "<Figure size 1000x600 with 1 Axes>"
            ],
            "image/png": "[encoded data removed]"
          },
          "metadata": {}
        }
      ]
    }
  ]
}