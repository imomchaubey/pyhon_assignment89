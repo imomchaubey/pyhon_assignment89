{
  "nbformat": 4,
  "nbformat_minor": 0,
  "metadata": {
    "colab": {
      "provenance": [],
      "authorship_tag": "ABX9TyMV5+awgy2fOU784XayPVG1",
      "include_colab_link": true
    },
    "kernelspec": {
      "name": "python3",
      "display_name": "Python 3"
    },
    "language_info": {
      "name": "python"
    }
  },
  "cells": [
    {
      "cell_type": "markdown",
      "metadata": {
        "id": "view-in-github",
        "colab_type": "text"
      },
      "source": [
        "<a href=\"https://colab.research.google.com/github/imomchaubey/pyhon_assignment89/blob/main/assignment_09.ipynb\" target=\"_parent\"><img src=\"https://colab.research.google.com/assets/colab-badge.svg\" alt=\"Open In Colab\"/></a>"
      ]
    },
    {
      "cell_type": "code",
      "source": [
        "import nltk\n",
        "import re\n",
        "import string\n",
        "from nltk.tokenize import word_tokenize, sent_tokenize\n",
        "from nltk.corpus import stopwords\n",
        "from nltk.stem import PorterStemmer, LancasterStemmer, WordNetLemmatizer\n",
        "from nltk import FreqDist\n",
        "\n",
        "nltk.download('punkt')\n",
        "nltk.download('stopwords')\n",
        "nltk.download('wordnet')\n",
        "nltk.download('punkt_tab')"
      ],
      "metadata": {
        "colab": {
          "base_uri": "https://localhost:8080/"
        },
        "id": "z7Xl4zBnBdOo",
        "outputId": "7ede60e1-c306-40ff-e405-dc4e27ec4a1f"
      },
      "execution_count": 2,
      "outputs": [
        {
          "output_type": "stream",
          "name": "stderr",
          "text": [
            "[nltk_data] Downloading package punkt to /root/nltk_data...\n",
            "[nltk_data]   Package punkt is already up-to-date!\n",
            "[nltk_data] Downloading package stopwords to /root/nltk_data...\n",
            "[nltk_data]   Package stopwords is already up-to-date!\n",
            "[nltk_data] Downloading package wordnet to /root/nltk_data...\n",
            "[nltk_data] Downloading package punkt_tab to /root/nltk_data...\n",
            "[nltk_data]   Unzipping tokenizers/punkt_tab.zip.\n"
          ]
        },
        {
          "output_type": "execute_result",
          "data": {
            "text/plain": [
              "True"
            ]
          },
          "metadata": {},
          "execution_count": 2
        }
      ]
    },
    {
      "cell_type": "code",
      "source": [
        "import string\n",
        "text = \"Text Preprocessing is the initial step in any NLP task where raw text is cleaned and prepared for analysis. This helps in reducing noise and better model performance.\"\n",
        "text_lower = text.lower()\n",
        "text_clean = text_lower.translate(str.maketrans('','', string.punctuation))\n",
        "print(\"Cleaned Text : \", text_clean)"
      ],
      "metadata": {
        "colab": {
          "base_uri": "https://localhost:8080/"
        },
        "id": "MiKMl1N7ByRX",
        "outputId": "c07d613e-87aa-4ee0-851f-35da1ef9030f"
      },
      "execution_count": 3,
      "outputs": [
        {
          "output_type": "stream",
          "name": "stdout",
          "text": [
            "Cleaned Text :  text preprocessing is the initial step in any nlp task where raw text is cleaned and prepared for analysis this helps in reducing noise and better model performance\n"
          ]
        }
      ]
    },
    {
      "cell_type": "code",
      "source": [
        "from nltk.tokenize import word_tokenize, sent_tokenize\n",
        "from nltk.corpus import stopwords\n",
        "from nltk import FreqDist\n",
        "\n",
        "word_tokens = word_tokenize(text_clean)\n",
        "sent_tokens = sent_tokenize(text)\n",
        "print(\"Word Tokens: \", word_tokens)\n",
        "print(\"Sentence Tokens: \", sent_tokens)\n",
        "stop_words = set(stopwords.words('english'))\n",
        "filtered_words = [w for w in word_tokens if w.lower() not in stop_words]\n",
        "print(\"Filtered Words:\" ,filtered_words)\n",
        "fd = FreqDist(filtered_words)\n",
        "fd.plot(10, title=\"Top Words\")"
      ],
      "metadata": {
        "colab": {
          "base_uri": "https://localhost:8080/",
          "height": 644
        },
        "id": "YiOG8j2GCDhO",
        "outputId": "8f3c1d31-20b8-4279-fd92-eafadc4b1b61"
      },
      "execution_count": 4,
      "outputs": [
        {
          "output_type": "stream",
          "name": "stdout",
          "text": [
            "Word Tokens:  ['text', 'preprocessing', 'is', 'the', 'initial', 'step', 'in', 'any', 'nlp', 'task', 'where', 'raw', 'text', 'is', 'cleaned', 'and', 'prepared', 'for', 'analysis', 'this', 'helps', 'in', 'reducing', 'noise', 'and', 'better', 'model', 'performance']\n",
            "Sentence Tokens:  ['Text Preprocessing is the initial step in any NLP task where raw text is cleaned and prepared for analysis.', 'This helps in reducing noise and better model performance.']\n",
            "Filtered Words: ['text', 'preprocessing', 'initial', 'step', 'nlp', 'task', 'raw', 'text', 'cleaned', 'prepared', 'analysis', 'helps', 'reducing', 'noise', 'better', 'model', 'performance']\n"
          ]
        },
        {
          "output_type": "execute_result",
          "data": {
            "text/plain": [
              "<Axes: title={'center': 'Top Words'}, xlabel='Samples', ylabel='Counts'>"
            ]
          },
          "metadata": {},
          "execution_count": 4
        },
        {
          "output_type": "display_data",
          "data": {
            "text/plain": [
              "<Figure size 640x480 with 1 Axes>"
            ],
            "image/png": "[encoded data removed]"
          },
          "metadata": {}
        }
      ]
    },
    {
      "cell_type": "code",
      "source": [
        "from nltk.stem import PorterStemmer, WordNetLemmatizer\n",
        "ps = PorterStemmer()\n",
        "lm = WordNetLemmatizer()\n",
        "\n",
        "for word in filtered_words:\n",
        "    print(f\"{word} -> Stemmed : {ps.stem(word)}, Lemmatized: {lm.lemmatize(word)}\")"
      ],
      "metadata": {
        "colab": {
          "base_uri": "https://localhost:8080/"
        },
        "id": "LrwntMH3CGmi",
        "outputId": "cfbf8f1b-8f5d-4f43-ff89-f125c1b89aff"
      },
      "execution_count": 5,
      "outputs": [
        {
          "output_type": "stream",
          "name": "stdout",
          "text": [
            "text -> Stemmed : text, Lemmatized: text\n",
            "preprocessing -> Stemmed : preprocess, Lemmatized: preprocessing\n",
            "initial -> Stemmed : initi, Lemmatized: initial\n",
            "step -> Stemmed : step, Lemmatized: step\n",
            "nlp -> Stemmed : nlp, Lemmatized: nlp\n",
            "task -> Stemmed : task, Lemmatized: task\n",
            "raw -> Stemmed : raw, Lemmatized: raw\n",
            "text -> Stemmed : text, Lemmatized: text\n",
            "cleaned -> Stemmed : clean, Lemmatized: cleaned\n",
            "prepared -> Stemmed : prepar, Lemmatized: prepared\n",
            "analysis -> Stemmed : analysi, Lemmatized: analysis\n",
            "helps -> Stemmed : help, Lemmatized: help\n",
            "reducing -> Stemmed : reduc, Lemmatized: reducing\n",
            "noise -> Stemmed : nois, Lemmatized: noise\n",
            "better -> Stemmed : better, Lemmatized: better\n",
            "model -> Stemmed : model, Lemmatized: model\n",
            "performance -> Stemmed : perform, Lemmatized: performance\n"
          ]
        }
      ]
    },
    {
      "cell_type": "code",
      "source": [
        "import re\n",
        "\n",
        "text = \"You can reach me at abc@example.com or cal me at +91 9871237590. \"\n",
        "\n",
        "email_pattern = r'\\b[A-Za-z0-9._%+-]+@[A-Za-z0-9.-]+\\.[A-Z|a-z]{2,}\\b'\n",
        "text = re.sub(email_pattern, '<EMAIL>', text)\n",
        "\n",
        "url_pattern = r'https?://[^\\s]+'\n",
        "text = re.sub(url_pattern, '<URL>', text)\n",
        "\n",
        "phone_pattern = r'(\\+?\\d{1,2}\\s?)?(\\(?\\d{3}\\)?[\\s\\-]?)?\\d{3}[\\s\\-]?\\d{4}'\n",
        "text = re.sub(phone_pattern, '<PHONE>', text)"
      ],
      "metadata": {
        "id": "pl4cbUElCOZx"
      },
      "execution_count": 6,
      "outputs": []
    },
    {
      "cell_type": "code",
      "source": [
        "text = \"Text Preprocessing is the initial step in any NLP task where raw text is cleaned and prepared for analysis. This helps in reducing noise and better model performance.\"\n",
        "\n",
        "long_words = re.findall(r'\\b\\w{6,}\\b', text)\n",
        "print(\"Words with more than 5 letters:\", long_words)\n",
        "numbers = re.findall(r'\\b\\d+\\b', text)\n",
        "print(\"Numbers in the text:\", numbers)\n",
        "capitalized_words = re.findall(r'\\b[A-Z][a-z]*\\b', text)\n",
        "print(\"Capitalized words:\", capitalized_words)\n",
        "\n",
        "words = re.findall(r'[a-zA-Z]+', text)\n",
        "print(\"Words with only alphabets:\", words)\n",
        "vowel_words = re.findall(r'\\b[aeiouAEIOU][a-zA-Z]*\\b', text)\n",
        "print(\"Words starting with a vowel:\", vowel_words)"
      ],
      "metadata": {
        "colab": {
          "base_uri": "https://localhost:8080/"
        },
        "id": "wyfIdqtACWNp",
        "outputId": "5562a11b-30a4-47c6-85c7-67e7cb5e4cd3"
      },
      "execution_count": 7,
      "outputs": [
        {
          "output_type": "stream",
          "name": "stdout",
          "text": [
            "Words with more than 5 letters: ['Preprocessing', 'initial', 'cleaned', 'prepared', 'analysis', 'reducing', 'better', 'performance']\n",
            "Numbers in the text: []\n",
            "Capitalized words: ['Text', 'Preprocessing', 'This']\n",
            "Words with only alphabets: ['Text', 'Preprocessing', 'is', 'the', 'initial', 'step', 'in', 'any', 'NLP', 'task', 'where', 'raw', 'text', 'is', 'cleaned', 'and', 'prepared', 'for', 'analysis', 'This', 'helps', 'in', 'reducing', 'noise', 'and', 'better', 'model', 'performance']\n",
            "Words starting with a vowel: ['is', 'initial', 'in', 'any', 'is', 'and', 'analysis', 'in', 'and']\n"
          ]
        }
      ]
    },
    {
      "cell_type": "code",
      "source": [
        "import re\n",
        "text = \"\"\"\n",
        "You can reach me at john.doe@example.com or visit my website at https://www.example.com.\n",
        "My phone number is 123-456-7890 and you can also contact me at +91 9876543210.\n",
        "Isn't this a state-of-the-art system? It costs 3.14 dollars.\n",
        "\"\"\"\n",
        "\n",
        "def custom_tokenizer(text):\n",
        "    # Regex pattern explanation:\n",
        "    # 1. Decimal numbers (\\d+\\.\\d+)\n",
        "    # 2. Whole numbers (\\d+)\n",
        "    # 3. Hyphenated words (state-of-the-art)\n",
        "    # 4. Words with contractions (isn't, you're)\n",
        "    # 5. Regular words\n",
        "\n",
        "    pattern = r\"\"\"\n",
        "        \\d+\\.\\d+              | # decimal numbers\n",
        "        \\d+                   | # integers\n",
        "        \\b\\w+(?:-\\w+)+\\b      | # hyphenated words\n",
        "        \\b\\w+'(?:\\w+)?\\b      | # contractions like isn't, you're\n",
        "        \\b\\w+\\b                 # normal words\n",
        "    \"\"\"\n",
        "\n",
        "    # Find all matches\n",
        "    tokens = re.findall(pattern, text, re.VERBOSE)\n",
        "\n",
        "    return tokens\n"
      ],
      "metadata": {
        "id": "CWkEGGKJCidP"
      },
      "execution_count": 9,
      "outputs": []
    },
    {
      "cell_type": "code",
      "source": [
        "import re\n",
        "\n",
        "# Original text (from Q1)\n",
        "text = \"\"\"\n",
        "Technology is evolving faster than ever. From smartphones to artificial intelligence, it is changing our daily lives.\n",
        "I find it fascinating how innovations make tasks more efficient and communication easier.\n",
        "New gadgets and apps continue to surprise us with their capabilities.\n",
        "Technology also plays a crucial role in education and healthcare, improving access and outcomes.\n",
        "I enjoy exploring new tech trends and understanding how they impact our world.\n",
        "Contact me at techguru@example.com or visit https://techupdates.com.\n",
        "You can also reach me at +91 9876543210 or 123-456-7890 for more info.\n",
        "\"\"\"\n",
        "\n",
        "# Step 1: Regex substitutions\n",
        "text = re.sub(r'\\b[\\w\\.-]+@[\\w\\.-]+\\.\\w+\\b', '<EMAIL>', text)  # email\n",
        "text = re.sub(r'https?://\\S+|www\\.\\S+', '<URL>', text)         # URLs\n",
        "text = re.sub(r'(\\+?\\d{1,3}[\\s-]?)?\\d{3}[\\s-]?\\d{3}[\\s-]?\\d{4}', '<PHONE>', text)  # phone numbers\n",
        "\n",
        "# Step 2: Custom tokenizer\n",
        "def custom_tokenizer(text):\n",
        "    # Keep contractions, decimal numbers, and hyphenated words\n",
        "    pattern = r\"\\b\\w+(?:[-']\\w+)*\\b|\\d+\\.\\d+\"\n",
        "    tokens = re.findall(pattern, text)\n",
        "    return tokens\n",
        "\n",
        "tokens = custom_tokenizer(text)\n",
        "\n",
        "# Output\n",
        "print(\"Cleaned & Tokenized Text:\")\n",
        "print(tokens)\n"
      ],
      "metadata": {
        "colab": {
          "base_uri": "https://localhost:8080/"
        },
        "id": "KEC5wcyPDCUr",
        "outputId": "6243d755-a0db-4f26-d082-3427b58079f3"
      },
      "execution_count": 10,
      "outputs": [
        {
          "output_type": "stream",
          "name": "stdout",
          "text": [
            "Cleaned & Tokenized Text:\n",
            "['Technology', 'is', 'evolving', 'faster', 'than', 'ever', 'From', 'smartphones', 'to', 'artificial', 'intelligence', 'it', 'is', 'changing', 'our', 'daily', 'lives', 'I', 'find', 'it', 'fascinating', 'how', 'innovations', 'make', 'tasks', 'more', 'efficient', 'and', 'communication', 'easier', 'New', 'gadgets', 'and', 'apps', 'continue', 'to', 'surprise', 'us', 'with', 'their', 'capabilities', 'Technology', 'also', 'plays', 'a', 'crucial', 'role', 'in', 'education', 'and', 'healthcare', 'improving', 'access', 'and', 'outcomes', 'I', 'enjoy', 'exploring', 'new', 'tech', 'trends', 'and', 'understanding', 'how', 'they', 'impact', 'our', 'world', 'Contact', 'me', 'at', 'EMAIL', 'or', 'visit', 'URL', 'You', 'can', 'also', 'reach', 'me', 'at', 'PHONE', 'or', 'PHONE', 'for', 'more', 'info']\n"
          ]
        }
      ]
    }
  ]
}