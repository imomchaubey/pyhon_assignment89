{
  "nbformat": 4,
  "nbformat_minor": 0,
  "metadata": {
    "colab": {
      "provenance": [],
      "authorship_tag": "ABX9TyNcfWXQrq52JeP0avLr+VYQ",
      "include_colab_link": true
    },
    "kernelspec": {
      "name": "python3",
      "display_name": "Python 3"
    },
    "language_info": {
      "name": "python"
    }
  },
  "cells": [
    {
      "cell_type": "markdown",
      "metadata": {
        "id": "view-in-github",
        "colab_type": "text"
      },
      "source": [
        "<a href=\"https://colab.research.google.com/github/om640/pyhon_assignment89/blob/main/om(102317189).ipynb\" target=\"_parent\"><img src=\"https://colab.research.google.com/assets/colab-badge.svg\" alt=\"Open In Colab\"/></a>"
      ]
    },
    {
      "cell_type": "markdown",
      "source": [
        "Write a Python program to print \"Anything You find cool"
      ],
      "metadata": {
        "id": "dENchYC13Q62"
      }
    },
    {
      "cell_type": "code",
      "source": [
        "print(\"Anything You find cool.\")"
      ],
      "metadata": {
        "id": "vuU8_HzO3Uhu"
      },
      "execution_count": null,
      "outputs": []
    },
    {
      "cell_type": "markdown",
      "source": [
        "2. Add Numbers and Concatenate Strings"
      ],
      "metadata": {
        "id": "tNqwchYe3gco"
      }
    },
    {
      "cell_type": "markdown",
      "source": [
        "2.1 Write a program to add two numbers and print the result."
      ],
      "metadata": {
        "id": "BitG0mav3sqY"
      }
    },
    {
      "cell_type": "code",
      "source": [
        "def add_numbers(a, b):\n",
        "    return a + b\n",
        "print(add_numbers(5, 3))"
      ],
      "metadata": {
        "id": "HiAqbnbH3zcc"
      },
      "execution_count": null,
      "outputs": []
    },
    {
      "cell_type": "markdown",
      "source": [
        "2.2 Write a program to concatenate two strings and print the result."
      ],
      "metadata": {
        "id": "Ol19UBhC37JB"
      }
    },
    {
      "cell_type": "code",
      "source": [
        "def concatenate_strings(s1, s2):\n",
        "    return s1 + s2\n",
        "print(concatenate_strings(\"Hello, \", \"World!\"))"
      ],
      "metadata": {
        "id": "yHwBuNi-3_k2"
      },
      "execution_count": null,
      "outputs": []
    },
    {
      "cell_type": "markdown",
      "source": [
        "2.3 Write a program to concatenate a string and a number and print the result."
      ],
      "metadata": {
        "id": "gS2bbmMD4HVo"
      }
    },
    {
      "cell_type": "code",
      "source": [
        "def concatenate_string_and_number(s, n):\n",
        "    return s + str(n)\n",
        "print(concatenate_string_and_number(\"Number: \", 42))"
      ],
      "metadata": {
        "id": "I4_ZpObI4Lrb"
      },
      "execution_count": null,
      "outputs": []
    },
    {
      "cell_type": "markdown",
      "source": [
        "3. If-Else Statements"
      ],
      "metadata": {
        "id": "1yDTEG3X4a_V"
      }
    },
    {
      "cell_type": "markdown",
      "source": [
        "3.1 Write a Python program to check if a number is positive, negative, or zero\n",
        "using an if-else statement."
      ],
      "metadata": {
        "id": "uIg8F-Rz4fqs"
      }
    },
    {
      "cell_type": "code",
      "source": [
        "def check_number_sign(n):\n",
        "    if n > 0:\n",
        "        return \"Positive\"\n",
        "    elif n < 0:\n",
        "        return \"Negative\"\n",
        "    else:\n",
        "        return \"Zero\"\n",
        "print(check_number_sign(-10))"
      ],
      "metadata": {
        "id": "6R36CyUc4kRe"
      },
      "execution_count": null,
      "outputs": []
    },
    {
      "cell_type": "markdown",
      "source": [
        "3.2 Write a program to check if a given number is odd or even."
      ],
      "metadata": {
        "id": "pWyV35BD4ud-"
      }
    },
    {
      "cell_type": "code",
      "source": [
        "def is_odd_or_even(n):\n",
        "    return \"Even\" if n % 2 == 0 else \"Odd\"\n",
        "print(is_odd_or_even(7))"
      ],
      "metadata": {
        "id": "YiqXkLfR4yrJ"
      },
      "execution_count": null,
      "outputs": []
    },
    {
      "cell_type": "markdown",
      "source": [
        "4. Loops"
      ],
      "metadata": {
        "id": "7OX6ZhXt46Q3"
      }
    },
    {
      "cell_type": "markdown",
      "source": [
        "4.1 Write a program to print numbers from 1 to 10 using a for loop.\n"
      ],
      "metadata": {
        "id": "B9F7bX7G49BF"
      }
    },
    {
      "cell_type": "code",
      "source": [
        "for i in range(1, 11):\n",
        "    print(i)"
      ],
      "metadata": {
        "id": "K4Oce6ah5Ahx"
      },
      "execution_count": null,
      "outputs": []
    },
    {
      "cell_type": "markdown",
      "source": [
        "4.2 Write a program to print numbers from 1 to 10 using a while loop."
      ],
      "metadata": {
        "id": "CDUd5Qh65KEN"
      }
    },
    {
      "cell_type": "code",
      "source": [
        "i = 1\n",
        "while i <= 10:\n",
        "    print(i)\n",
        "    i += 1"
      ],
      "metadata": {
        "id": "HwbAzhXd5N_s"
      },
      "execution_count": null,
      "outputs": []
    },
    {
      "cell_type": "markdown",
      "source": [
        "4.3 Write a program to calculate the sum of numbers from 1 to 100 using a loop."
      ],
      "metadata": {
        "id": "gSwraimc5ZtC"
      }
    },
    {
      "cell_type": "code",
      "source": [
        "print(sum(range(1, 101)))"
      ],
      "metadata": {
        "id": "7gwN1SmU5b59"
      },
      "execution_count": null,
      "outputs": []
    },
    {
      "cell_type": "markdown",
      "source": [
        "5. Data Structures"
      ],
      "metadata": {
        "id": "S8pzBedj5ieA"
      }
    },
    {
      "cell_type": "markdown",
      "source": [
        "5.1 Create a list of 5 numbers. Write a program to find the largest and smallest numbers in the list"
      ],
      "metadata": {
        "id": "c4pzdXsB5ohC"
      }
    },
    {
      "cell_type": "code",
      "source": [
        "numbers = [4, 7, 1, 9, 3]\n",
        "print(max(numbers))\n",
        "print(min(numbers))"
      ],
      "metadata": {
        "id": "yy1Gdh1Q5vMc"
      },
      "execution_count": null,
      "outputs": []
    },
    {
      "cell_type": "markdown",
      "source": [
        "5.2 Create a dictionary with at least 3 key-value pairs. Write a program to retrieve the value of a given key."
      ],
      "metadata": {
        "id": "uidamBsH52yg"
      }
    },
    {
      "cell_type": "code",
      "source": [
        "dictionary = {\"a\": 1, \"b\": 2, \"c\": 3}\n",
        "print(dictionary.get(\"b\"))"
      ],
      "metadata": {
        "id": "zFjUE8PQ57qv"
      },
      "execution_count": null,
      "outputs": []
    },
    {
      "cell_type": "markdown",
      "source": [
        "5.3 Write a program to sort a list of numbers in ascending and descending order."
      ],
      "metadata": {
        "id": "THDWEsu_6Ixt"
      }
    },
    {
      "cell_type": "code",
      "source": [
        "sorted_numbers = sorted(numbers)\n",
        "print(sorted_numbers)\n",
        "print(sorted_numbers[::-1])"
      ],
      "metadata": {
        "id": "ieeW7ziy6Kbp"
      },
      "execution_count": null,
      "outputs": []
    },
    {
      "cell_type": "markdown",
      "source": [
        "5.4 Write a program to merge two dictionaries into one."
      ],
      "metadata": {
        "id": "8Ao5MlPV6SHR"
      }
    },
    {
      "cell_type": "code",
      "source": [
        "dict1 = {\"x\": 10, \"y\": 20}\n",
        "dict2 = {\"y\": 30, \"z\": 40}\n",
        "merged_dict = {**dict1, **dict2}\n",
        "print(merged_dict)"
      ],
      "metadata": {
        "id": "5D7bqJCA6Wnf"
      },
      "execution_count": null,
      "outputs": []
    },
    {
      "cell_type": "markdown",
      "source": [
        "6. Strings"
      ],
      "metadata": {
        "id": "TOgRwdkn6fJi"
      }
    },
    {
      "cell_type": "markdown",
      "source": [
        "6.1 Write a program to count the number of vowels in a given string.\n"
      ],
      "metadata": {
        "id": "WtuUi4Af6isQ"
      }
    },
    {
      "cell_type": "code",
      "source": [
        "def count_vowels(s):\n",
        "    vowels = \"aeiouAEIOU\"\n",
        "    return sum(1 for char in s if char in vowels)\n",
        "print(count_vowels(\"Hello World\"))"
      ],
      "metadata": {
        "id": "VrjXHebe6ncN"
      },
      "execution_count": null,
      "outputs": []
    },
    {
      "cell_type": "markdown",
      "source": [
        "6.2 Write a program to reverse a string and print it."
      ],
      "metadata": {
        "id": "q7ecdL5i6tOZ"
      }
    },
    {
      "cell_type": "code",
      "source": [
        "def reverse_string(s):\n",
        "    return s[::-1]\n",
        "print(reverse_string(\"Hello\"))"
      ],
      "metadata": {
        "id": "xtTcse7a6w5j"
      },
      "execution_count": null,
      "outputs": []
    },
    {
      "cell_type": "markdown",
      "source": [
        "6.3 Write a program to check if a string is a palindrome."
      ],
      "metadata": {
        "id": "WJGvdPKM61k_"
      }
    },
    {
      "cell_type": "code",
      "source": [
        "def is_palindrome(s):\n",
        "    s = s.lower()\n",
        "    return s == s[::-1]\n",
        "print(is_palindrome(\"Radar\"))"
      ],
      "metadata": {
        "id": "Da6dz_7x6755"
      },
      "execution_count": null,
      "outputs": []
    },
    {
      "cell_type": "markdown",
      "source": [
        "7. File Handling"
      ],
      "metadata": {
        "id": "QQ7rCJKE7Ggs"
      }
    },
    {
      "cell_type": "markdown",
      "source": [
        "7.1 Write a program to create a text file, write some text into it, and then read and print the content.\n"
      ],
      "metadata": {
        "id": "SpyqS5157JsU"
      }
    },
    {
      "cell_type": "code",
      "source": [
        "with open(\"example.txt\", \"w\") as file:\n",
        "    file.write(\"Hello, File!\")\n",
        "with open(\"example.txt\", \"r\") as file:\n",
        "    print(file.read())"
      ],
      "metadata": {
        "id": "KeV2f6AF7ON3"
      },
      "execution_count": null,
      "outputs": []
    },
    {
      "cell_type": "markdown",
      "source": [
        "7.2 Append text to an existing file"
      ],
      "metadata": {
        "id": "pq5Fp8AD7Xxh"
      }
    },
    {
      "cell_type": "code",
      "source": [
        "with open(\"example.txt\", \"a\") as file:\n",
        "    file.write(\"\\nAppended Text\")\n",
        "with open(\"example.txt\", \"r\") as file:\n",
        "    print(file.read())"
      ],
      "metadata": {
        "id": "4XZRQwLn7ZNG"
      },
      "execution_count": null,
      "outputs": []
    },
    {
      "cell_type": "markdown",
      "source": [
        "7.3 Write a program to count the number of lines in a text file"
      ],
      "metadata": {
        "id": "T0b2gyUz7do-"
      }
    },
    {
      "cell_type": "code",
      "source": [
        "with open(\"example.txt\", \"r\") as file:\n",
        "    print(len(file.readlines()))"
      ],
      "metadata": {
        "id": "Sns2rwWs7grs"
      },
      "execution_count": null,
      "outputs": []
    },
    {
      "cell_type": "markdown",
      "source": [
        "8. Exception Handling"
      ],
      "metadata": {
        "id": "yVAqTqtG7nPv"
      }
    },
    {
      "cell_type": "markdown",
      "source": [
        "8.1 Write a program to handle division by zero using a try-except block."
      ],
      "metadata": {
        "id": "iYerr6ZE7qQX"
      }
    },
    {
      "cell_type": "code",
      "source": [
        "try:\n",
        "    print(10 / 0)\n",
        "except ZeroDivisionError:\n",
        "    print(\"Cannot divide by zero\")"
      ],
      "metadata": {
        "id": "7Pi7yqXB7uWW"
      },
      "execution_count": null,
      "outputs": []
    },
    {
      "cell_type": "markdown",
      "source": [
        "8.2 Write a program to handle invalid input (e.g., when the user enters a string instead of a number)."
      ],
      "metadata": {
        "id": "7GXb96ui71Pw"
      }
    },
    {
      "cell_type": "code",
      "source": [
        "try:\n",
        "    num = int(input(\"Enter a number: \"))\n",
        "except ValueError:\n",
        "    print(\"Invalid input\")"
      ],
      "metadata": {
        "id": "-M7qyTQW73MJ"
      },
      "execution_count": null,
      "outputs": []
    },
    {
      "cell_type": "markdown",
      "source": [
        "8.3 Write a program to demonstrate the use of finally in exception handling."
      ],
      "metadata": {
        "id": "XozdokHV792-"
      }
    },
    {
      "cell_type": "code",
      "source": [
        "try:\n",
        "    print(10 / 2)\n",
        "finally:\n",
        "    print(\"Execution complete\")"
      ],
      "metadata": {
        "id": "7xLw_FOZ8Bgj"
      },
      "execution_count": null,
      "outputs": []
    },
    {
      "cell_type": "markdown",
      "source": [
        "9. Random Numbers"
      ],
      "metadata": {
        "id": "WcHOst9U8F7T"
      }
    },
    {
      "cell_type": "markdown",
      "source": [
        "9.1 Write a program to generate 5 random numbers between 1 and 100 and print them.\n"
      ],
      "metadata": {
        "id": "bs-nzkoC8J3E"
      }
    },
    {
      "cell_type": "code",
      "source": [
        "import random\n",
        "print([random.randint(1, 100) for _ in range(5)])"
      ],
      "metadata": {
        "id": "vFdxm3tM8O9F"
      },
      "execution_count": null,
      "outputs": []
    },
    {
      "cell_type": "markdown",
      "source": [
        "9.2 Write a program to generate a random number and check if it is prime.\n"
      ],
      "metadata": {
        "id": "YeEzDSlr8cOV"
      }
    },
    {
      "cell_type": "code",
      "source": [
        "def is_prime(n):\n",
        "    if n <= 1:\n",
        "        return False\n",
        "    for i in range(2, int(n**0.5) + 1):\n",
        "        if n % i == 0:\n",
        "            return False\n",
        "    return True\n",
        "rand_num = random.randint(1, 100)\n",
        "print(rand_num, \"is prime:\", is_prime(rand_num))"
      ],
      "metadata": {
        "id": "bvADSzSQ8hKO"
      },
      "execution_count": null,
      "outputs": []
    },
    {
      "cell_type": "markdown",
      "source": [
        "9.3 Write a program to simulate rolling a six-sided die"
      ],
      "metadata": {
        "id": "G_uhBCxj8l8w"
      }
    },
    {
      "cell_type": "code",
      "source": [
        "print(random.randint(1, 6))"
      ],
      "metadata": {
        "id": "HiEb2GJx8pT0"
      },
      "execution_count": null,
      "outputs": []
    },
    {
      "cell_type": "markdown",
      "source": [
        " 9.4 Shuffle a list"
      ],
      "metadata": {
        "id": "XXoZa1Ua8wi8"
      }
    },
    {
      "cell_type": "code",
      "source": [
        "numbers = [1, 2, 3, 4, 5]\n",
        "random.shuffle(numbers)\n",
        "print(numbers)"
      ],
      "metadata": {
        "id": "HRSgCSLO8xjF"
      },
      "execution_count": null,
      "outputs": []
    },
    {
      "cell_type": "markdown",
      "source": [
        " 9.5 Randomly select an item from a list"
      ],
      "metadata": {
        "id": "GFHWQIYD813q"
      }
    },
    {
      "cell_type": "code",
      "source": [
        "print(random.choice(numbers))"
      ],
      "metadata": {
        "id": "dQO9btSl85qi"
      },
      "execution_count": null,
      "outputs": []
    },
    {
      "cell_type": "markdown",
      "source": [
        " 9.6 Generate a random password"
      ],
      "metadata": {
        "id": "AybOVLrf88jq"
      }
    },
    {
      "cell_type": "code",
      "source": [
        "def generate_password(length):\n",
        "    characters = \"abcdefghijklmnopqrstuvwxyzABCDEFGHIJKLMNOPQRSTUVWXYZ0123456789!@#$%^&*()\"\n",
        "    return \"\".join(random.choices(characters, k=length))\n",
        "print(generate_password(8))"
      ],
      "metadata": {
        "id": "xGlknGC19Arh"
      },
      "execution_count": null,
      "outputs": []
    },
    {
      "cell_type": "markdown",
      "source": [
        "9.7 Pick a random card from a deck"
      ],
      "metadata": {
        "id": "sRFSYX4_9FS_"
      }
    },
    {
      "cell_type": "code",
      "source": [
        "def random_card():\n",
        "    suits = [\"Hearts\", \"Diamonds\", \"Clubs\", \"Spades\"]\n",
        "    values = [\"2\", \"3\", \"4\", \"5\", \"6\", \"7\", \"8\", \"9\", \"10\", \"Jack\", \"Queen\", \"King\", \"Ace\"]\n",
        "    return f\"{random.choice(values)} of {random.choice(suits)}\"\n",
        "print(random_card())"
      ],
      "metadata": {
        "id": "_1Z8_96B9LjL"
      },
      "execution_count": null,
      "outputs": []
    },
    {
      "cell_type": "markdown",
      "source": [
        "10: Command Line Arguments"
      ],
      "metadata": {
        "id": "1Sny38zf9NR2"
      }
    },
    {
      "cell_type": "markdown",
      "source": [
        "10.1 Write a program to accept two numbers as command-line arguments, add\n",
        "them, and print the result."
      ],
      "metadata": {
        "id": "SkVIKYcG9WBE"
      }
    },
    {
      "cell_type": "code",
      "source": [
        "import sys\n",
        "if len(sys.argv) > 2:\n",
        "    num1, num2 = int(sys.argv[1]), int(sys.argv[2])\n",
        "    print(num1 + num2)"
      ],
      "metadata": {
        "id": "TqlryZXJ9a4V"
      },
      "execution_count": null,
      "outputs": []
    },
    {
      "cell_type": "markdown",
      "source": [
        "10.2 Write a program to accept a string as a command-line argument and print its length."
      ],
      "metadata": {
        "id": "eQ8wC8Ov9lm3"
      }
    },
    {
      "cell_type": "code",
      "source": [
        "if len(sys.argv) > 1:\n",
        "    print(len(sys.argv[1]))"
      ],
      "metadata": {
        "id": "2i1qb28z9oNo"
      },
      "execution_count": null,
      "outputs": []
    },
    {
      "cell_type": "markdown",
      "source": [
        "11: Use of Libraries"
      ],
      "metadata": {
        "id": "OQv-Wyex-AJ9"
      }
    },
    {
      "cell_type": "code",
      "source": [
        "import math\n",
        "import datetime\n",
        "import os"
      ],
      "metadata": {
        "id": "6ammtvbV-Gbu"
      },
      "execution_count": null,
      "outputs": []
    },
    {
      "cell_type": "markdown",
      "source": [
        "11.1 Write a program to use the math library to calculate the square root of a given number."
      ],
      "metadata": {
        "id": "1qDZceqg-RMX"
      }
    },
    {
      "cell_type": "code",
      "source": [
        "print(math.sqrt(16))"
      ],
      "metadata": {
        "id": "GmaptdaI-Yjs"
      },
      "execution_count": null,
      "outputs": []
    },
    {
      "cell_type": "markdown",
      "source": [
        "11.2 Write a program to use the datetime library to print the current date and time."
      ],
      "metadata": {
        "id": "FKbHRYpF-dfD"
      }
    },
    {
      "cell_type": "code",
      "source": [
        "print(datetime.datetime.now())"
      ],
      "metadata": {
        "id": "wC4eiDhe-iGz"
      },
      "execution_count": null,
      "outputs": []
    },
    {
      "cell_type": "markdown",
      "source": [
        "11.3 Write a program to use the os library to list all files in the current directory."
      ],
      "metadata": {
        "id": "ug3vNOCk-r2s"
      }
    },
    {
      "cell_type": "code",
      "source": [
        "print(os.listdir(\".\"))"
      ],
      "metadata": {
        "id": "BzL88g-s-s_U"
      },
      "execution_count": null,
      "outputs": []
    }
  ]
}